{
 "cells": [
  {
   "cell_type": "code",
   "execution_count": 12,
   "metadata": {},
   "outputs": [],
   "source": [
    "import numpy as np # linear algebra\n",
    "import pandas as pd # data processing, CSV file I/O (e.g. pd.read_csv)\n",
    "from sklearn.metrics import roc_auc_score\n",
    "from sklearn.preprocessing import LabelEncoder, StandardScaler \n",
    "from sklearn.compose import ColumnTransformer\n",
    "from sklearn.pipeline import make_pipeline\n",
    "from lightgbm import LGBMClassifier\n",
    "from category_encoders import OneHotEncoder\n",
    "from sklearn.model_selection import cross_val_predict\n",
    "from warnings import filterwarnings\n",
    "from sklearn.impute import SimpleImputer\n",
    "from sklearn.model_selection import StratifiedKFold\n",
    "filterwarnings('ignore')\n",
    "import os\n"
   ]
  },
  {
   "cell_type": "code",
   "execution_count": 1,
   "metadata": {},
   "outputs": [],
   "source": [
    "import numpy as np \n",
    "import pandas as pd \n",
    "\n",
    "import re\n",
    "#import xgboost as xgb\n",
    "import seaborn as sns\n",
    "import matplotlib.pyplot as plt\n",
    "%matplotlib inline\n",
    "\n",
    "import warnings\n",
    "warnings.filterwarnings('ignore')\n",
    "\n",
    "# Going to use these 5 base models for the stacking\n",
    "from sklearn.ensemble import (RandomForestClassifier, AdaBoostClassifier, \n",
    "                              GradientBoostingClassifier, ExtraTreesClassifier)\n",
    "from sklearn.svm import SVC\n",
    "from sklearn.model_selection import KFold, cross_val_score, GridSearchCV\n",
    "from sklearn.preprocessing import LabelEncoder\n",
    "from sklearn.ensemble import VotingClassifier\n",
    "import seaborn as sns\n",
    "from scipy.stats import ttest_ind\n",
    "from plotnine import *\n",
    "# import os\n",
    "# print(os.listdir(\"../input\"))\n",
    "\n",
    "SEED = 0"
   ]
  },
  {
   "cell_type": "code",
   "execution_count": 2,
   "metadata": {},
   "outputs": [
    {
     "data": {
      "text/html": [
       "<div>\n",
       "<style scoped>\n",
       "    .dataframe tbody tr th:only-of-type {\n",
       "        vertical-align: middle;\n",
       "    }\n",
       "\n",
       "    .dataframe tbody tr th {\n",
       "        vertical-align: top;\n",
       "    }\n",
       "\n",
       "    .dataframe thead th {\n",
       "        text-align: right;\n",
       "    }\n",
       "</style>\n",
       "<table border=\"1\" class=\"dataframe\">\n",
       "  <thead>\n",
       "    <tr style=\"text-align: right;\">\n",
       "      <th></th>\n",
       "      <th>PassengerId</th>\n",
       "      <th>Survived</th>\n",
       "      <th>Pclass</th>\n",
       "      <th>Name</th>\n",
       "      <th>Sex</th>\n",
       "      <th>Age</th>\n",
       "      <th>SibSp</th>\n",
       "      <th>Parch</th>\n",
       "      <th>Ticket</th>\n",
       "      <th>Fare</th>\n",
       "      <th>Cabin</th>\n",
       "      <th>Embarked</th>\n",
       "    </tr>\n",
       "  </thead>\n",
       "  <tbody>\n",
       "    <tr>\n",
       "      <th>0</th>\n",
       "      <td>1</td>\n",
       "      <td>0</td>\n",
       "      <td>3</td>\n",
       "      <td>Braund, Mr. Owen Harris</td>\n",
       "      <td>male</td>\n",
       "      <td>22.0</td>\n",
       "      <td>1</td>\n",
       "      <td>0</td>\n",
       "      <td>A/5 21171</td>\n",
       "      <td>7.2500</td>\n",
       "      <td>NaN</td>\n",
       "      <td>S</td>\n",
       "    </tr>\n",
       "    <tr>\n",
       "      <th>1</th>\n",
       "      <td>2</td>\n",
       "      <td>1</td>\n",
       "      <td>1</td>\n",
       "      <td>Cumings, Mrs. John Bradley (Florence Briggs Th...</td>\n",
       "      <td>female</td>\n",
       "      <td>38.0</td>\n",
       "      <td>1</td>\n",
       "      <td>0</td>\n",
       "      <td>PC 17599</td>\n",
       "      <td>71.2833</td>\n",
       "      <td>C85</td>\n",
       "      <td>C</td>\n",
       "    </tr>\n",
       "    <tr>\n",
       "      <th>2</th>\n",
       "      <td>3</td>\n",
       "      <td>1</td>\n",
       "      <td>3</td>\n",
       "      <td>Heikkinen, Miss. Laina</td>\n",
       "      <td>female</td>\n",
       "      <td>26.0</td>\n",
       "      <td>0</td>\n",
       "      <td>0</td>\n",
       "      <td>STON/O2. 3101282</td>\n",
       "      <td>7.9250</td>\n",
       "      <td>NaN</td>\n",
       "      <td>S</td>\n",
       "    </tr>\n",
       "  </tbody>\n",
       "</table>\n",
       "</div>"
      ],
      "text/plain": [
       "   PassengerId  Survived  Pclass  \\\n",
       "0            1         0       3   \n",
       "1            2         1       1   \n",
       "2            3         1       3   \n",
       "\n",
       "                                                Name     Sex   Age  SibSp  \\\n",
       "0                            Braund, Mr. Owen Harris    male  22.0      1   \n",
       "1  Cumings, Mrs. John Bradley (Florence Briggs Th...  female  38.0      1   \n",
       "2                             Heikkinen, Miss. Laina  female  26.0      0   \n",
       "\n",
       "   Parch            Ticket     Fare Cabin Embarked  \n",
       "0      0         A/5 21171   7.2500   NaN        S  \n",
       "1      0          PC 17599  71.2833   C85        C  \n",
       "2      0  STON/O2. 3101282   7.9250   NaN        S  "
      ]
     },
     "execution_count": 2,
     "metadata": {},
     "output_type": "execute_result"
    }
   ],
   "source": [
    "# Load in the train and test datasets\n",
    "train = pd.read_csv('/Users/momori1/Documents/data/titanic/train.csv')\n",
    "test = pd.read_csv('/Users/momori1/Documents/data/titanic/test.csv')\n",
    "\n",
    "# Store our passenger ID for easy access\n",
    "PassengerId = test['PassengerId']\n",
    "\n",
    "train.head(3)"
   ]
  },
  {
   "cell_type": "code",
   "execution_count": 3,
   "metadata": {},
   "outputs": [],
   "source": [
    "def check_na_distribution(*dataframes):\n",
    "    '''\n",
    "    print out % of values which are nan and columns which have nan values\n",
    "    for two dataframe input, it should be [train, test] to match the output columns\n",
    "    ex: check_na_distributions(train, test)\n",
    "    '''\n",
    "    if len(dataframes)==2:\n",
    "        columns = ['train_na_pct','test_na_pct']\n",
    "    elif len(dataframes)==1:\n",
    "        columns = ['na_pct']\n",
    "    else:\n",
    "        raise Exception(\"too many datafrmaes\")\n",
    "        \n",
    "    output = pd.DataFrame()\n",
    "    for i, df in enumerate(dataframes):\n",
    "        calculated_df = pd.DataFrame(100*df.isna().sum()/df.shape[0],columns=[columns[i]])\n",
    "        output = pd.merge(output, calculated_df,  left_index=True, right_index=True, how='outer')\n",
    "        \n",
    "    output = output.sort_values(output.columns[0], ascending=False)\n",
    "    col_sums = output.sum(axis=1)\n",
    "    \n",
    "    return output, col_sums.where(col_sums>0).dropna().index.values\n",
    "\n",
    "\n",
    "def run_ttest(train, test, exclude_numeric_cols=[], exclude_cat_columns=[]):\n",
    "    '''\n",
    "    runs column wise ttest to see how different the distributions are.\n",
    "    The function drops nan values when calculating the pvalue.\n",
    "    '''\n",
    "    assert isinstance(exclude_numeric_cols, list), 'Not list'\n",
    "    assert isinstance(exclude_cat_columns, list), 'Not list'\n",
    "\n",
    "    results = []\n",
    "    \n",
    "    # get numeric columns which are common to train and test\n",
    "    train_numeric = train.select_dtypes(include=np.number).columns.values\n",
    "    test_numeric = test.select_dtypes(include=np.number).columns.values\n",
    "    numeric_columns = set(train_numeric).intersection(set(test_numeric))\n",
    "    \n",
    "    for col in numeric_columns:\n",
    "        if col in exclude_numeric_cols:\n",
    "            continue\n",
    "        abs_pval = np.abs(ttest_ind(train[~train[col].isna()][col], test[~test[col].isna()][col])[1])\n",
    "        results.append((col, abs_pval))\n",
    "    \n",
    "    # get categorical columns\n",
    "    train_cat = train.select_dtypes(exclude=np.number).columns.values\n",
    "    test_cat = test.select_dtypes(exclude=np.number).columns.values\n",
    "    cat_columns = set(train_cat).intersection(set(test_cat))\n",
    "    cat_columns = list(cat_columns.difference(exclude_cat_columns))\n",
    "    \n",
    "    # dummy the dataframe and get all columns\n",
    "    train_dummy = pd.get_dummies(train[cat_columns])\n",
    "    test_dummy = pd.get_dummies(test[cat_columns])\n",
    "    total_cat_columns = set(train_dummy.columns).union(set(test_dummy.columns))\n",
    "    \n",
    "    for col in total_cat_columns:\n",
    "        abs_pval = np.abs(ttest_ind(train_dummy[~train_dummy[col].isna()][col],\\\n",
    "                                    test_dummy[~test_dummy[col].isna()][col])[1])\n",
    "        results.append((col, abs_pval))\n",
    "        \n",
    "    return pd.DataFrame(results,columns=['column','abs_pval']).sort_values('abs_pval',ascending=True)"
   ]
  },
  {
   "cell_type": "code",
   "execution_count": 4,
   "metadata": {},
   "outputs": [
    {
     "data": {
      "text/html": [
       "<div>\n",
       "<style scoped>\n",
       "    .dataframe tbody tr th:only-of-type {\n",
       "        vertical-align: middle;\n",
       "    }\n",
       "\n",
       "    .dataframe tbody tr th {\n",
       "        vertical-align: top;\n",
       "    }\n",
       "\n",
       "    .dataframe thead th {\n",
       "        text-align: right;\n",
       "    }\n",
       "</style>\n",
       "<table border=\"1\" class=\"dataframe\">\n",
       "  <thead>\n",
       "    <tr style=\"text-align: right;\">\n",
       "      <th></th>\n",
       "      <th>column</th>\n",
       "      <th>abs_pval</th>\n",
       "    </tr>\n",
       "  </thead>\n",
       "  <tbody>\n",
       "    <tr>\n",
       "      <th>1</th>\n",
       "      <td>PassengerId</td>\n",
       "      <td>6.293754e-302</td>\n",
       "    </tr>\n",
       "    <tr>\n",
       "      <th>7</th>\n",
       "      <td>Embarked_S</td>\n",
       "      <td>4.718391e-03</td>\n",
       "    </tr>\n",
       "    <tr>\n",
       "      <th>9</th>\n",
       "      <td>Embarked_C</td>\n",
       "      <td>2.075341e-02</td>\n",
       "    </tr>\n",
       "    <tr>\n",
       "      <th>10</th>\n",
       "      <td>Embarked_Q</td>\n",
       "      <td>1.722158e-01</td>\n",
       "    </tr>\n",
       "    <tr>\n",
       "      <th>2</th>\n",
       "      <td>SibSp</td>\n",
       "      <td>2.207671e-01</td>\n",
       "    </tr>\n",
       "    <tr>\n",
       "      <th>4</th>\n",
       "      <td>Fare</td>\n",
       "      <td>2.651768e-01</td>\n",
       "    </tr>\n",
       "    <tr>\n",
       "      <th>3</th>\n",
       "      <td>Pclass</td>\n",
       "      <td>3.858475e-01</td>\n",
       "    </tr>\n",
       "    <tr>\n",
       "      <th>0</th>\n",
       "      <td>Age</td>\n",
       "      <td>5.494539e-01</td>\n",
       "    </tr>\n",
       "    <tr>\n",
       "      <th>6</th>\n",
       "      <td>Sex_male</td>\n",
       "      <td>6.928341e-01</td>\n",
       "    </tr>\n",
       "    <tr>\n",
       "      <th>8</th>\n",
       "      <td>Sex_female</td>\n",
       "      <td>6.928341e-01</td>\n",
       "    </tr>\n",
       "    <tr>\n",
       "      <th>5</th>\n",
       "      <td>Parch</td>\n",
       "      <td>8.341444e-01</td>\n",
       "    </tr>\n",
       "  </tbody>\n",
       "</table>\n",
       "</div>"
      ],
      "text/plain": [
       "         column       abs_pval\n",
       "1   PassengerId  6.293754e-302\n",
       "7    Embarked_S   4.718391e-03\n",
       "9    Embarked_C   2.075341e-02\n",
       "10   Embarked_Q   1.722158e-01\n",
       "2         SibSp   2.207671e-01\n",
       "4          Fare   2.651768e-01\n",
       "3        Pclass   3.858475e-01\n",
       "0           Age   5.494539e-01\n",
       "6      Sex_male   6.928341e-01\n",
       "8    Sex_female   6.928341e-01\n",
       "5         Parch   8.341444e-01"
      ]
     },
     "execution_count": 4,
     "metadata": {},
     "output_type": "execute_result"
    }
   ],
   "source": [
    "run_ttest(train,test, exclude_cat_columns=['Ticket','Name','Cabin'])\n"
   ]
  },
  {
   "cell_type": "code",
   "execution_count": 5,
   "metadata": {},
   "outputs": [],
   "source": [
    "# columns with nulls: array(['Cabin', 'Age', 'Embarked', 'Fare'], dtype=object)\n",
    "full = [train,test]\n",
    "\n",
    "for df in full:\n",
    "    df['Cabin'].fillna(0, inplace=True)\n",
    "    \n",
    "for df in full:\n",
    "    df['Age'].fillna(df['Age'].median(),inplace=True)\n",
    "    \n",
    "for df in full:\n",
    "    df['Embarked'].fillna('S',inplace=True)\n",
    "    \n",
    "for df in full:\n",
    "    df['Fare'].fillna(df['Fare'].median(),inplace=True)"
   ]
  },
  {
   "cell_type": "code",
   "execution_count": 6,
   "metadata": {},
   "outputs": [],
   "source": [
    "# FE from cabin\n",
    "for df in full:\n",
    "    df['cabin_num'] = df['Cabin'].apply(lambda x: len(x.split()) if x!=0 else x)\n",
    "    df['cabin_alpha'] = df['Cabin'].apply(lambda x: str(x)[0])"
   ]
  },
  {
   "cell_type": "code",
   "execution_count": 7,
   "metadata": {},
   "outputs": [],
   "source": [
    "for df in full:\n",
    "    df['sibparch'] = df['SibSp'] + df['Parch'] + 1\n",
    "    df['IsAlone'] = 1\n",
    "    df['IsAlone'].loc[df['sibparch'] > 1] = 0\n",
    "    \n",
    "    df['Title'] = df['Name'].str.split(\", \", expand=True)[1].str.split(\".\", expand=True)[0]\n",
    "    df['FareBin'] = pd.qcut(df['Fare'], 4)\n",
    "    df['AgeBin'] = pd.cut(df['Age'].astype(int), 5)"
   ]
  },
  {
   "cell_type": "code",
   "execution_count": 8,
   "metadata": {},
   "outputs": [],
   "source": [
    "label = LabelEncoder()\n",
    "\n",
    "for dataset in full:\n",
    "    dataset['Sex_Code'] = label.fit_transform(dataset['Sex'])\n",
    "    dataset['Embarked_Code'] = label.fit_transform(dataset['Embarked'])\n",
    "    dataset['Title_Code'] = label.fit_transform(dataset['Title'])\n",
    "    dataset['AgeBin_Code'] = label.fit_transform(dataset['AgeBin'])\n",
    "    dataset['FareBin_Code'] = label.fit_transform(dataset['FareBin'])"
   ]
  },
  {
   "cell_type": "code",
   "execution_count": 9,
   "metadata": {},
   "outputs": [],
   "source": [
    "train_x_columns = ['Sex','Pclass', 'Embarked', 'Title','SibSp', 'Parch', 'Age', 'Fare', 'sibparch', 'IsAlone']\n",
    "train_x_bins = ['Sex_Code','Pclass', 'Embarked_Code', 'Title_Code', 'sibparch', 'AgeBin_Code', 'FareBin_Code']"
   ]
  },
  {
   "cell_type": "code",
   "execution_count": 14,
   "metadata": {},
   "outputs": [
    {
     "name": "stdout",
     "output_type": "stream",
     "text": [
      "Number of features 21\n"
     ]
    }
   ],
   "source": [
    "target_column = \"Survived\"\n",
    "id_column = \"id\"\n",
    "categorical_cols = [c for c in test.columns if test[c].dtype in [np.object]]\n",
    "numerical_cols = [c for c in test.columns if test[c].dtype in [np.float, np.int] and c not in [target_column, id_column]]\n",
    "print(\"Number of features\", len(categorical_cols)+len(numerical_cols))"
   ]
  },
  {
   "cell_type": "code",
   "execution_count": null,
   "metadata": {},
   "outputs": [],
   "source": [
    "classifier = make_pipeline(\n",
    "    ColumnTransformer([\n",
    "        ('num', StandardScaler(), numerical_cols),\n",
    "        ('cat', OneHotEncoder(), categorical_cols),    \n",
    "    ]),\n",
    "    LGBMClassifier(n_jobs=-1,learning_rate=0.02,num_tree=100,lambda_l1=5,max_bin=512)\n",
    ")"
   ]
  },
  {
   "cell_type": "code",
   "execution_count": null,
   "metadata": {},
   "outputs": [],
   "source": [
    "classifier = make_pipeline(\n",
    "    ColumnTransformer([\n",
    "        ('num', StandardScaler(), numerical_cols),\n",
    "        ('cat', OneHotEncoder(), categorical_cols),    \n",
    "    ]),\n",
    "    LGBMClassifier(n_jobs=-1,learning_rate=0.02,num_tree=100,lambda_l1=5,max_bin=512)\n",
    ")"
   ]
  },
  {
   "cell_type": "code",
   "execution_count": null,
   "metadata": {},
   "outputs": [],
   "source": [
    "oof_pred = cross_val_predict(classifier, \n",
    "                             train, \n",
    "                             train[target_column], \n",
    "                             cv=3,\n",
    "                             method=\"predict_proba\")"
   ]
  },
  {
   "cell_type": "code",
   "execution_count": 10,
   "metadata": {},
   "outputs": [],
   "source": [
    "train_columns = train_x_columns + train_x_bins\n"
   ]
  },
  {
   "cell_type": "code",
   "execution_count": 14,
   "metadata": {},
   "outputs": [],
   "source": [
    "train_x = pd.get_dummies(train[train_columns])\n",
    "test_x = pd.get_dummies(test[train_columns])\n",
    "train_y = train['Survived']"
   ]
  },
  {
   "cell_type": "code",
   "execution_count": 15,
   "metadata": {},
   "outputs": [],
   "source": [
    "train_x, test_x = train_x.align(test_x, join='left', axis=1)\n",
    "test_x.fillna(0, inplace=True)"
   ]
  },
  {
   "cell_type": "code",
   "execution_count": 16,
   "metadata": {},
   "outputs": [
    {
     "data": {
      "text/plain": [
       "((891, 40), (418, 40))"
      ]
     },
     "execution_count": 16,
     "metadata": {},
     "output_type": "execute_result"
    }
   ],
   "source": [
    "train_x.shape, test_x.shape"
   ]
  },
  {
   "cell_type": "code",
   "execution_count": 38,
   "metadata": {},
   "outputs": [],
   "source": [
    "rf_params = {\n",
    "    'random_state':[SEED],\n",
    "    'n_estimators':[10, 20, 30],\n",
    "    'min_impurity_decrease':[0, 0.01, 0.1],\n",
    "    'max_depth':[5,10, None]\n",
    "}\n",
    "\n",
    "# AdaBoost parameters\n",
    "ada_params = {\n",
    "    'n_estimators': [10, 15],\n",
    "    'learning_rate' : [0.3, 0.6, 1.0, 2.0],\n",
    "    'random_state':[SEED]\n",
    "}\n",
    "\n",
    "ext_params = {\n",
    "    'n_estimators':[5, 10, 20, 30],\n",
    "    'max_depth': [None, 10, 20, 30],\n",
    "    'random_state':[SEED],\n",
    "    'class_weight':[None, 'balanced']\n",
    "}\n",
    "\n",
    "params = [rf_params, ada_params, ext_params]\n",
    "models = [RandomForestClassifier(), AdaBoostClassifier(), ExtraTreesClassifier()]"
   ]
  },
  {
   "cell_type": "code",
   "execution_count": 89,
   "metadata": {},
   "outputs": [],
   "source": [
    "class ModelHelper(object):\n",
    "    def __init__(self, models, params, cv=5):\n",
    "        self._models = models\n",
    "        self._params = params\n",
    "        self._cv = cv\n",
    "        self.best_models = []\n",
    "        \n",
    "    def fit(self, train_x, train_y):\n",
    "        outputs = []\n",
    "        for i, model in enumerate(self._models):\n",
    "            param = self._params[i]\n",
    "            gs_model = GridSearchCV(model, param, cv=self._cv).fit(train_x, train_y)\n",
    "            scores = cross_val_score(gs_model.best_estimator_, train_x, train_y, cv=self._cv)\n",
    "            self.best_models.append(gs_model.best_estimator_)\n",
    "            outputs.append([model.__class__.__name__, scores.mean(), scores.min(), scores.max()])\n",
    "        self.fitted_results = pd.DataFrame(outputs, columns=['model', 'mean', 'min', 'max'])\n",
    "        return self.fitted_results\n",
    "    \n",
    "    def predict(self, train_x):\n",
    "        result = pd.DataFrame()\n",
    "        columns = []\n",
    "        for model in self.best_models:\n",
    "            result[model.__class__.__name__] = model.predict(train_x)\n",
    "        self.model_predictions = result\n",
    "        return result\n",
    "    \n",
    "    def heatmap(self):\n",
    "        sns.heatmap(mh.model_predictions.corr(), annot=True)\n",
    "        \n",
    "    def predict_proba(self, train_x):\n",
    "        result = pd.DataFrame()\n",
    "        columns = []\n",
    "        for model in self.best_models:\n",
    "            result[model.__class__.__name__] = [i[0] for i in model.predict_proba(train_x)]\n",
    "        self.model_predictions_proba = result\n",
    "        return result        \n",
    "    \n",
    "        "
   ]
  },
  {
   "cell_type": "code",
   "execution_count": 90,
   "metadata": {},
   "outputs": [
    {
     "data": {
      "text/html": [
       "<div>\n",
       "<style scoped>\n",
       "    .dataframe tbody tr th:only-of-type {\n",
       "        vertical-align: middle;\n",
       "    }\n",
       "\n",
       "    .dataframe tbody tr th {\n",
       "        vertical-align: top;\n",
       "    }\n",
       "\n",
       "    .dataframe thead th {\n",
       "        text-align: right;\n",
       "    }\n",
       "</style>\n",
       "<table border=\"1\" class=\"dataframe\">\n",
       "  <thead>\n",
       "    <tr style=\"text-align: right;\">\n",
       "      <th></th>\n",
       "      <th>model</th>\n",
       "      <th>mean</th>\n",
       "      <th>min</th>\n",
       "      <th>max</th>\n",
       "    </tr>\n",
       "  </thead>\n",
       "  <tbody>\n",
       "    <tr>\n",
       "      <th>0</th>\n",
       "      <td>RandomForestClassifier</td>\n",
       "      <td>0.827197</td>\n",
       "      <td>0.792135</td>\n",
       "      <td>0.864407</td>\n",
       "    </tr>\n",
       "    <tr>\n",
       "      <th>1</th>\n",
       "      <td>AdaBoostClassifier</td>\n",
       "      <td>0.821585</td>\n",
       "      <td>0.808989</td>\n",
       "      <td>0.847458</td>\n",
       "    </tr>\n",
       "    <tr>\n",
       "      <th>2</th>\n",
       "      <td>ExtraTreesClassifier</td>\n",
       "      <td>0.811504</td>\n",
       "      <td>0.787709</td>\n",
       "      <td>0.837079</td>\n",
       "    </tr>\n",
       "  </tbody>\n",
       "</table>\n",
       "</div>"
      ],
      "text/plain": [
       "                    model      mean       min       max\n",
       "0  RandomForestClassifier  0.827197  0.792135  0.864407\n",
       "1      AdaBoostClassifier  0.821585  0.808989  0.847458\n",
       "2    ExtraTreesClassifier  0.811504  0.787709  0.837079"
      ]
     },
     "execution_count": 90,
     "metadata": {},
     "output_type": "execute_result"
    }
   ],
   "source": [
    "mh = ModelHelper(models, params)\n",
    "mh.fit(train_x, train_y)"
   ]
  },
  {
   "cell_type": "code",
   "execution_count": 91,
   "metadata": {},
   "outputs": [
    {
     "data": {
      "text/html": [
       "<div>\n",
       "<style scoped>\n",
       "    .dataframe tbody tr th:only-of-type {\n",
       "        vertical-align: middle;\n",
       "    }\n",
       "\n",
       "    .dataframe tbody tr th {\n",
       "        vertical-align: top;\n",
       "    }\n",
       "\n",
       "    .dataframe thead th {\n",
       "        text-align: right;\n",
       "    }\n",
       "</style>\n",
       "<table border=\"1\" class=\"dataframe\">\n",
       "  <thead>\n",
       "    <tr style=\"text-align: right;\">\n",
       "      <th></th>\n",
       "      <th>RandomForestClassifier</th>\n",
       "      <th>AdaBoostClassifier</th>\n",
       "      <th>ExtraTreesClassifier</th>\n",
       "    </tr>\n",
       "  </thead>\n",
       "  <tbody>\n",
       "    <tr>\n",
       "      <th>0</th>\n",
       "      <td>0</td>\n",
       "      <td>0</td>\n",
       "      <td>0</td>\n",
       "    </tr>\n",
       "    <tr>\n",
       "      <th>1</th>\n",
       "      <td>1</td>\n",
       "      <td>1</td>\n",
       "      <td>1</td>\n",
       "    </tr>\n",
       "    <tr>\n",
       "      <th>2</th>\n",
       "      <td>1</td>\n",
       "      <td>1</td>\n",
       "      <td>1</td>\n",
       "    </tr>\n",
       "  </tbody>\n",
       "</table>\n",
       "</div>"
      ],
      "text/plain": [
       "   RandomForestClassifier  AdaBoostClassifier  ExtraTreesClassifier\n",
       "0                       0                   0                     0\n",
       "1                       1                   1                     1\n",
       "2                       1                   1                     1"
      ]
     },
     "execution_count": 91,
     "metadata": {},
     "output_type": "execute_result"
    }
   ],
   "source": [
    "model_predictions = mh.predict(train_x)\n",
    "model_predictions.head(3)"
   ]
  },
  {
   "cell_type": "code",
   "execution_count": 92,
   "metadata": {},
   "outputs": [
    {
     "data": {
      "text/html": [
       "<div>\n",
       "<style scoped>\n",
       "    .dataframe tbody tr th:only-of-type {\n",
       "        vertical-align: middle;\n",
       "    }\n",
       "\n",
       "    .dataframe tbody tr th {\n",
       "        vertical-align: top;\n",
       "    }\n",
       "\n",
       "    .dataframe thead th {\n",
       "        text-align: right;\n",
       "    }\n",
       "</style>\n",
       "<table border=\"1\" class=\"dataframe\">\n",
       "  <thead>\n",
       "    <tr style=\"text-align: right;\">\n",
       "      <th></th>\n",
       "      <th>RandomForestClassifier</th>\n",
       "      <th>AdaBoostClassifier</th>\n",
       "      <th>ExtraTreesClassifier</th>\n",
       "    </tr>\n",
       "  </thead>\n",
       "  <tbody>\n",
       "    <tr>\n",
       "      <th>0</th>\n",
       "      <td>0.920617</td>\n",
       "      <td>0.558512</td>\n",
       "      <td>0.841111</td>\n",
       "    </tr>\n",
       "    <tr>\n",
       "      <th>1</th>\n",
       "      <td>0.022290</td>\n",
       "      <td>0.434173</td>\n",
       "      <td>0.000000</td>\n",
       "    </tr>\n",
       "    <tr>\n",
       "      <th>2</th>\n",
       "      <td>0.489159</td>\n",
       "      <td>0.484764</td>\n",
       "      <td>0.466549</td>\n",
       "    </tr>\n",
       "  </tbody>\n",
       "</table>\n",
       "</div>"
      ],
      "text/plain": [
       "   RandomForestClassifier  AdaBoostClassifier  ExtraTreesClassifier\n",
       "0                0.920617            0.558512              0.841111\n",
       "1                0.022290            0.434173              0.000000\n",
       "2                0.489159            0.484764              0.466549"
      ]
     },
     "execution_count": 92,
     "metadata": {},
     "output_type": "execute_result"
    }
   ],
   "source": [
    "model_predictions_proba = mh.predict_proba(train_x)\n",
    "model_predictions_proba.head(3)"
   ]
  },
  {
   "cell_type": "code",
   "execution_count": 95,
   "metadata": {},
   "outputs": [
    {
     "data": {
      "text/plain": [
       "0.913607552627202"
      ]
     },
     "execution_count": 95,
     "metadata": {},
     "output_type": "execute_result"
    }
   ],
   "source": [
    "gs_rf = GridSearchCV(RandomForestClassifier(), rf_params, cv=5)\n",
    "gs_rf.fit(train_x, train_y)\n",
    "scores_rf = cross_val_score(gs_rf.best_estimator_,model_predictions, train_y, cv=5)\n",
    "scores_rf.mean()"
   ]
  },
  {
   "cell_type": "code",
   "execution_count": 96,
   "metadata": {},
   "outputs": [
    {
     "data": {
      "text/plain": [
       "0.9091384916662145"
      ]
     },
     "execution_count": 96,
     "metadata": {},
     "output_type": "execute_result"
    }
   ],
   "source": [
    "gs_rf = GridSearchCV(RandomForestClassifier(), rf_params, cv=5)\n",
    "gs_rf.fit(train_x, train_y)\n",
    "scores_rf = cross_val_score(gs_rf.best_estimator_,model_predictions_proba, train_y, cv=5)\n",
    "scores_rf.mean()"
   ]
  },
  {
   "cell_type": "code",
   "execution_count": null,
   "metadata": {},
   "outputs": [],
   "source": []
  },
  {
   "cell_type": "code",
   "execution_count": null,
   "metadata": {},
   "outputs": [],
   "source": []
  },
  {
   "cell_type": "code",
   "execution_count": 26,
   "metadata": {},
   "outputs": [
    {
     "data": {
      "text/plain": [
       "0.8115037412400298"
      ]
     },
     "execution_count": 26,
     "metadata": {},
     "output_type": "execute_result"
    }
   ],
   "source": [
    "gs_ext = GridSearchCV(ExtraTreesClassifier(), ext_params, cv=5)\n",
    "gs_ext.fit(train_x, train_y)\n",
    "scores_ext = cross_val_score(gs_ext.best_estimator_, train_x, train_y, cv=5)\n",
    "scores_ext.mean()"
   ]
  },
  {
   "cell_type": "code",
   "execution_count": null,
   "metadata": {},
   "outputs": [],
   "source": []
  },
  {
   "cell_type": "code",
   "execution_count": 35,
   "metadata": {},
   "outputs": [],
   "source": [
    "# ada_predictions = [i[0] for i in gs_ada.best_estimator_.predict_proba(train_x)]\n",
    "# rf_predictions = [i[0] for i in gs_rf.best_estimator_.predict_proba(train_x)]\n",
    "# ext_predictions = [i[0] for i in gs_ext.best_estimator_.predict_proba(train_x)]\n",
    "\n",
    "# train_combined = pd.DataFrame(list(zip(ada_predictions, rf_predictions, ext_predictions)))"
   ]
  },
  {
   "cell_type": "code",
   "execution_count": 36,
   "metadata": {},
   "outputs": [],
   "source": [
    "ada_predictions = [i for i in gs_ada.best_estimator_.predict(train_x)]\n",
    "rf_predictions = [i for i in gs_rf.best_estimator_.predict(train_x)]\n",
    "ext_predictions = [i for i in gs_ext.best_estimator_.predict(train_x)]\n",
    "\n",
    "train_combined = pd.DataFrame(list(zip(ada_predictions, rf_predictions, ext_predictions)))"
   ]
  },
  {
   "cell_type": "code",
   "execution_count": 37,
   "metadata": {},
   "outputs": [
    {
     "data": {
      "text/plain": [
       "0.8204614036450272"
      ]
     },
     "execution_count": 37,
     "metadata": {},
     "output_type": "execute_result"
    }
   ],
   "source": [
    "stacked_model = GridSearchCV(RandomForestClassifier(), rf_params, cv=5)\n",
    "stacked_model.fit(train_combined, train_y)\n",
    "scores_stacked = cross_val_score(stacked_model.best_estimator_,train_x, train_y, cv=5)\n",
    "scores_stacked.mean()"
   ]
  },
  {
   "cell_type": "code",
   "execution_count": null,
   "metadata": {},
   "outputs": [],
   "source": []
  }
 ],
 "metadata": {
  "kernelspec": {
   "display_name": "Python 3",
   "language": "python",
   "name": "python3"
  },
  "language_info": {
   "codemirror_mode": {
    "name": "ipython",
    "version": 3
   },
   "file_extension": ".py",
   "mimetype": "text/x-python",
   "name": "python",
   "nbconvert_exporter": "python",
   "pygments_lexer": "ipython3",
   "version": "3.7.1"
  }
 },
 "nbformat": 4,
 "nbformat_minor": 2
}
